{
  "nbformat": 4,
  "nbformat_minor": 0,
  "metadata": {
    "colab": {
      "provenance": [],
      "mount_file_id": "1Cq0cJxD7TTszeY8YrsnGBUROt2SzCXLL",
      "authorship_tag": "ABX9TyM/5rirYBioKg0JWg3ffwvs",
      "include_colab_link": true
    },
    "kernelspec": {
      "name": "python3",
      "display_name": "Python 3"
    },
    "language_info": {
      "name": "python"
    }
  },
  "cells": [
    {
      "cell_type": "markdown",
      "metadata": {
        "id": "view-in-github",
        "colab_type": "text"
      },
      "source": [
        "<a href=\"https://colab.research.google.com/github/Kirk-KD/toddler-asd/blob/master/asd.ipynb\" target=\"_parent\"><img src=\"https://colab.research.google.com/assets/colab-badge.svg\" alt=\"Open In Colab\"/></a>"
      ]
    },
    {
      "cell_type": "code",
      "source": [
        "import os\n",
        "import pandas as pd\n",
        "import numpy as np\n",
        "from sklearn.tree import DecisionTreeClassifier\n",
        "from sklearn.neighbors import KNeighborsClassifier\n",
        "from sklearn.model_selection import train_test_split\n",
        "from sklearn.utils.class_weight import compute_sample_weight\n",
        "from sklearn.ensemble import RandomForestClassifier, AdaBoostClassifier\n",
        "from sklearn import metrics, svm\n",
        "import xgboost as xgb\n",
        "import matplotlib.pyplot as plt"
      ],
      "metadata": {
        "id": "ppBGMLn8rT88"
      },
      "execution_count": null,
      "outputs": []
    },
    {
      "cell_type": "code",
      "execution_count": null,
      "metadata": {
        "id": "7IMKsQamp2f3"
      },
      "outputs": [],
      "source": [
        "CSV_PATH = '/content/drive/MyDrive/Colab Notebooks/ASD Toddlers/data/Toddler Autism dataset July 2018.csv'\n",
        "FEATURE_COLUMNS = [f'A{i+1}' for i in range(10)] + ['Age_Mons', 'Sex', 'Ethnicity', 'Jaundice', 'Family_mem_with_ASD']\n",
        "TARGET_COLUMN = 'ASD'\n",
        "SEED = 25\n",
        "np.random.seed(SEED)"
      ]
    },
    {
      "cell_type": "code",
      "source": [
        "dataset = pd.read_csv(CSV_PATH)\n",
        "dataset.head()"
      ],
      "metadata": {
        "id": "oADLii_9rFKt"
      },
      "execution_count": null,
      "outputs": []
    },
    {
      "cell_type": "code",
      "source": [
        "len(dataset)"
      ],
      "metadata": {
        "id": "ydBks6S3uJ9G"
      },
      "execution_count": null,
      "outputs": []
    },
    {
      "cell_type": "code",
      "source": [
        "dataset['Ethnicity'].unique()"
      ],
      "metadata": {
        "id": "D4tfQ4hruyaH"
      },
      "execution_count": null,
      "outputs": []
    },
    {
      "cell_type": "code",
      "source": [
        "# Cleanup, rename, and drop\n",
        "dataset['Sex'] = dataset['Sex'].map({'f': 0, 'm': 1})\n",
        "dataset['Jaundice'] = dataset['Jaundice'].map({'yes': 1, 'no': 0})\n",
        "dataset['Family_mem_with_ASD'] = dataset['Family_mem_with_ASD'].map({'yes': 1, 'no': 0})\n",
        "dataset['Class/ASD Traits '] = dataset['Class/ASD Traits '].map({'Yes': 1, 'No': 0})\n",
        "dataset.rename(columns={'Class/ASD Traits ': 'ASD'}, inplace=True)\n",
        "dataset = dataset[FEATURE_COLUMNS + [TARGET_COLUMN]]\n",
        "dataset.head()"
      ],
      "metadata": {
        "id": "XrTGrY2twE8n"
      },
      "execution_count": null,
      "outputs": []
    },
    {
      "cell_type": "code",
      "source": [
        "counts = dataset[TARGET_COLUMN].value_counts()\n",
        "\n",
        "plt.figure(figsize=(6,4))\n",
        "plt.bar(counts.index, counts.values, color=['skyblue','salmon'])\n",
        "plt.xticks(counts.index, ['0 - No ASD','1 - ASD'])\n",
        "plt.ylabel('Count')\n",
        "plt.title('Distribution of Target (ASD)')\n",
        "plt.show()"
      ],
      "metadata": {
        "id": "ysEb4-R_54LN"
      },
      "execution_count": null,
      "outputs": []
    },
    {
      "cell_type": "code",
      "source": [
        "dataset_oh = dataset.copy()\n",
        "oh = pd.get_dummies(dataset_oh['Ethnicity'], prefix='Ethnicity', dtype=int)\n",
        "dataset_oh.drop('Ethnicity', axis=1, inplace=True)\n",
        "dataset_oh = pd.concat([dataset_oh, oh], axis=1)\n",
        "FEATURE_COLUMNS_OH = dataset_oh.columns.drop(TARGET_COLUMN)\n",
        "dataset_oh.head()"
      ],
      "metadata": {
        "id": "vwuBNzAhwUfG"
      },
      "execution_count": null,
      "outputs": []
    },
    {
      "cell_type": "code",
      "source": [
        "def train_test_valid_split(X, y):\n",
        "    # First split: 80% train, 20% temp (val+test)\n",
        "    X_train, X_temp, y_train, y_temp = train_test_split(\n",
        "        X, y, test_size=0.2, random_state=SEED\n",
        "    )\n",
        "    # Second split: 50% val, 50% test of the remaining 20% -> 10% each\n",
        "    X_val, X_test, y_val, y_test = train_test_split(\n",
        "        X_temp, y_temp, test_size=0.5, random_state=SEED\n",
        "    )\n",
        "    return X_train, X_val, X_test, y_train, y_val, y_test"
      ],
      "metadata": {
        "id": "c60D9v663rgV"
      },
      "execution_count": null,
      "outputs": []
    },
    {
      "cell_type": "markdown",
      "source": [
        "## Decision Tree Classifier"
      ],
      "metadata": {
        "id": "K4L0Y5OX0QhS"
      }
    },
    {
      "cell_type": "code",
      "source": [
        "class Trainer:\n",
        "    '''Trainer template for better organization of splits and results.'''\n",
        "\n",
        "    def __init__(self, X, y):\n",
        "        self.X = X\n",
        "        self.y = y\n",
        "        self.X_train, self.X_test, self.y_train, self.y_test = train_test_split(self.X, self.y, test_size=0.20, random_state=SEED)\n",
        "\n",
        "    def fit(self, results_dict):\n",
        "        trained_model = self.model.fit(self.X_train, self.y_train)\n",
        "        y_pred = trained_model.predict(self.X_test)\n",
        "\n",
        "        results_dict['model'] = trained_model\n",
        "        self.store_results(results_dict, y_pred)\n",
        "\n",
        "    def store_results(self, results_dict, y_pred):\n",
        "        results_dict['accuracy'] = metrics.accuracy_score(self.y_test, y_pred)\n",
        "        results_dict['balanced_accuracy'] = metrics.balanced_accuracy_score(self.y_test, y_pred)\n",
        "        results_dict['precision'] = metrics.precision_score(self.y_test, y_pred)\n",
        "        results_dict['report'] = metrics.classification_report(self.y_test, y_pred)\n",
        "        results_dict['confusion_matrix'] = metrics.confusion_matrix(self.y_test, y_pred)"
      ],
      "metadata": {
        "id": "oogjtgkD0fQQ"
      },
      "execution_count": null,
      "outputs": []
    },
    {
      "cell_type": "code",
      "source": [
        "class DecisionTreeTrainer(Trainer):\n",
        "    def __init__(self):\n",
        "        super().__init__(X=dataset_oh[FEATURE_COLUMNS_OH], y=dataset_oh[TARGET_COLUMN])\n",
        "\n",
        "        self.model = DecisionTreeClassifier(random_state=SEED)\n",
        "\n",
        "class DecisionTreeBalancedTrainer(Trainer):\n",
        "    def __init__(self):\n",
        "        super().__init__(X=dataset_oh[FEATURE_COLUMNS_OH], y=dataset_oh[TARGET_COLUMN])\n",
        "\n",
        "        self.model = DecisionTreeClassifier(random_state=SEED, class_weight='balanced')"
      ],
      "metadata": {
        "id": "swLMP4VO1-3P"
      },
      "execution_count": null,
      "outputs": []
    },
    {
      "cell_type": "code",
      "source": [
        "class SVMTrainer(Trainer):\n",
        "    def __init__(self):\n",
        "        super().__init__(X=dataset_oh[FEATURE_COLUMNS_OH], y=dataset_oh[TARGET_COLUMN])\n",
        "\n",
        "        self.model = svm.SVC(random_state=SEED)\n",
        "\n",
        "class SVMBalancedTrainer(Trainer):\n",
        "    def __init__(self):\n",
        "        super().__init__(X=dataset_oh[FEATURE_COLUMNS_OH], y=dataset_oh[TARGET_COLUMN])\n",
        "\n",
        "        self.model = svm.SVC(random_state=SEED, class_weight='balanced')"
      ],
      "metadata": {
        "id": "giPp8rdK-OIn"
      },
      "execution_count": null,
      "outputs": []
    },
    {
      "cell_type": "code",
      "source": [
        "class KNNTrainer(Trainer):\n",
        "    def __init__(self):\n",
        "        super().__init__(X=dataset_oh[FEATURE_COLUMNS_OH], y=dataset_oh[TARGET_COLUMN])\n",
        "\n",
        "        self.model = KNeighborsClassifier()"
      ],
      "metadata": {
        "id": "0XV9LsaoA2Gy"
      },
      "execution_count": null,
      "outputs": []
    },
    {
      "cell_type": "code",
      "source": [
        "class XGBoostTrainer(Trainer):\n",
        "    def __init__(self):\n",
        "        super().__init__(X=dataset_oh[FEATURE_COLUMNS_OH], y=dataset_oh[TARGET_COLUMN])\n",
        "\n",
        "        self.model = xgb.XGBClassifier(random_state=SEED)\n",
        "\n",
        "class XGBoostBalancedTrainer(XGBoostTrainer):\n",
        "    def fit(self, results_dict):\n",
        "        sample_weights = compute_sample_weight(class_weight='balanced', y=self.y_train)\n",
        "        trained_model = self.model.fit(self.X_train, self.y_train, sample_weight=sample_weights)\n",
        "        y_pred = trained_model.predict(self.X_test)\n",
        "\n",
        "        result_dict['model'] = trained_model\n",
        "        self.store_results(results_dict, y_pred)"
      ],
      "metadata": {
        "id": "whUHX9ZBvRZt"
      },
      "execution_count": null,
      "outputs": []
    },
    {
      "cell_type": "code",
      "source": [
        "class AdaBoostTrainer(Trainer):\n",
        "    def __init__(self):\n",
        "        super().__init__(X=dataset_oh[FEATURE_COLUMNS_OH], y=dataset_oh[TARGET_COLUMN])\n",
        "\n",
        "        self.model = AdaBoostClassifier(random_state=SEED)\n",
        "\n",
        "class AdaBoostBalancedTrainer(AdaBoostTrainer):\n",
        "    def fit(self, results_dict):\n",
        "        sample_weights = compute_sample_weight(class_weight='balanced', y=self.y_train)\n",
        "        trained_model = self.model.fit(self.X_train, self.y_train, sample_weight=sample_weights)\n",
        "        y_pred = trained_model.predict(self.X_test)\n",
        "\n",
        "        result_dict['model'] = trained_model\n",
        "        self.store_results(results_dict, y_pred)"
      ],
      "metadata": {
        "id": "8BuiWbniwrSF"
      },
      "execution_count": null,
      "outputs": []
    },
    {
      "cell_type": "markdown",
      "source": [
        "## Train Modes"
      ],
      "metadata": {
        "id": "LaB4_SxC6c93"
      }
    },
    {
      "cell_type": "code",
      "source": [
        "models = {\n",
        "    'DecisionTree': DecisionTreeTrainer(),\n",
        "    'DecisionTree_Balanced': DecisionTreeBalancedTrainer(),\n",
        "    'SVM': SVMTrainer(),\n",
        "    'SVM_Balanced': SVMBalancedTrainer(),\n",
        "    'KNN': KNNTrainer(),\n",
        "    'XGBoost': XGBoostTrainer(),\n",
        "    'XGBoost_Balanced': XGBoostBalancedTrainer(),\n",
        "    'AdaBoost': AdaBoostTrainer(),\n",
        "    'AdaBoost_Balanced': AdaBoostBalancedTrainer()\n",
        "}\n",
        "\n",
        "records = []\n",
        "\n",
        "for name, model in models.items():\n",
        "    result_dict = {}\n",
        "    model.fit(result_dict)\n",
        "    records.append({'Name': name, **result_dict})\n",
        "\n",
        "df_results = pd.DataFrame(records)\n",
        "df_results.drop(['report', 'confusion_matrix'], axis=1)"
      ],
      "metadata": {
        "id": "mJgdIi4p6heB"
      },
      "execution_count": null,
      "outputs": []
    }
  ]
}